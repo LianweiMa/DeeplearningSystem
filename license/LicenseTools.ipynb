{
 "cells": [
  {
   "cell_type": "code",
   "execution_count": 1,
   "metadata": {},
   "outputs": [],
   "source": [
    "from LicenseWin import mainWin\n",
    "import wx\n",
    "class MyApp(wx.App):\n",
    "    def OnInit(self):\n",
    "        frame = mainWin(None)\n",
    "        # 创建窗口图标对象\n",
    "        icon = wx.Icon('./res/license.ico', wx.BITMAP_TYPE_ICO) \n",
    "        # 设置窗口图标\n",
    "        frame.SetIcon(icon)\n",
    "        self.SetTopWindow(frame)\n",
    "        frame.Show(True)\n",
    "        return True\n",
    "\n",
    "if __name__ == '__main__':\n",
    "    app = MyApp()\n",
    "    app.MainLoop()"
   ]
  }
 ],
 "metadata": {
  "kernelspec": {
   "display_name": "qgis_torch",
   "language": "python",
   "name": "python3"
  },
  "language_info": {
   "codemirror_mode": {
    "name": "ipython",
    "version": 3
   },
   "file_extension": ".py",
   "mimetype": "text/x-python",
   "name": "python",
   "nbconvert_exporter": "python",
   "pygments_lexer": "ipython3",
   "version": "3.11.11"
  }
 },
 "nbformat": 4,
 "nbformat_minor": 2
}
